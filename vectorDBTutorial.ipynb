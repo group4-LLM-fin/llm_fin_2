{
 "cells": [
  {
   "cell_type": "markdown",
   "metadata": {},
   "source": [
    "# How to use vectorDB class"
   ]
  },
  {
   "cell_type": "markdown",
   "metadata": {},
   "source": [
    "## Initialize db"
   ]
  },
  {
   "cell_type": "code",
   "execution_count": 1,
   "metadata": {},
   "outputs": [],
   "source": [
    "from database.vectorDB import VectorDB\n",
    "from dotenv import load_dotenv\n",
    "import os\n",
    "\n",
    "load_dotenv()\n",
    "\n",
    "user = os.getenv('USER')\n",
    "host = os.getenv('HOST')\n",
    "port = os.getenv('PORT')\n",
    "password = os.getenv('PASSWORD')\n",
    "dbname = os.getenv('DB1')\n",
    "\n",
    "db_config = {\n",
    "    'user': user,\n",
    "    'password': password,\n",
    "    'host': host,\n",
    "    'port': port,\n",
    "    'dbname': dbname\n",
    "}\n",
    "\n",
    "\n",
    "db = VectorDB(**db_config)\n"
   ]
  },
  {
   "cell_type": "markdown",
   "metadata": {},
   "source": [
    "## Create table"
   ]
  },
  {
   "cell_type": "code",
   "execution_count": 2,
   "metadata": {},
   "outputs": [],
   "source": [
    "table_schema = {\n",
    "    \"id\": \"UUID PRIMARY KEY\",\n",
    "    \"reportId\": \"INT NOT NULL\",  # Assuming 'metadata' table has 'reportId' as a primary key\n",
    "    \"text\": \"TEXT\",\n",
    "    \"embedding\": \"VECTOR(1536)\"  # 1536 dimensions for OpenAI embeddings (adjust as needed)\n",
    "}\n",
    "\n",
    "db.create_table(\"chunkEmbedding\", columns=table_schema)"
   ]
  },
  {
   "cell_type": "markdown",
   "metadata": {},
   "source": [
    "## Insert embedding into table"
   ]
  },
  {
   "cell_type": "code",
   "execution_count": 4,
   "metadata": {},
   "outputs": [
    {
     "name": "stdout",
     "output_type": "stream",
     "text": [
      "Record inserted successfully.\n"
     ]
    }
   ],
   "source": [
    "from langchain.embeddings import OpenAIEmbeddings\n",
    "\n",
    "openai_api = os.getenv('OPENAI_API_KEY')\n",
    "text = 'Các giấy tờ có giá đi vay, giấy tờ có giá của khách hàng đưa chiết khấu, tái chiết khấu đã chuyển quyền sở hữu đem đi sử dụng'\n",
    "embedder = OpenAIEmbeddings(model=\"text-embedding-3-small\", openai_api_key=openai_api)\n",
    "embeddings = embedder.embed_documents(texts = text)\n",
    "embedding = embeddings[0]\n",
    "\n",
    "db.insert_embedding(\n",
    "    table_name=\"chunkEmbedding\",\n",
    "    reportId=2,\n",
    "    text=text,\n",
    "    Embedding=embedding\n",
    ")\n",
    "print(\"Record inserted successfully.\")\n"
   ]
  },
  {
   "cell_type": "markdown",
   "metadata": {},
   "source": [
    "## Query from vector DB"
   ]
  },
  {
   "cell_type": "markdown",
   "metadata": {},
   "source": [
    "Distance\n",
    "- L2 - L2 distance\n",
    "- inner - (negative) inner product\n",
    "- cosine - cosine distance\n",
    "- L1 - L1 distance (added in 0.7.0)\n",
    "- hamming - Hamming distance (binary vectors, added in 0.7.0)\n",
    "- jaccard - Jaccard distance (binary vectors, added in 0.7.0)"
   ]
  },
  {
   "cell_type": "code",
   "execution_count": 6,
   "metadata": {},
   "outputs": [
    {
     "name": "stdout",
     "output_type": "stream",
     "text": [
      "[{'id': 'a3c965a6-8347-42ef-a379-5f43ac5032a1', 'reportId': 1, 'text': 'Các công cụ tài chính phái sinh và các tài sản tài chính khác', 'distance': 1.2224430471154297}, {'id': 'f6fbae66-e107-4b24-8f80-6f5a7d97efae', 'reportId': 1, 'text': 'Các công cụ tài chính phái sinh và các tài sản tài chính khác', 'distance': 1.2224430471154297}, {'id': 'c2f7925d-78f2-49f1-8174-0d4e6a96204d', 'reportId': 2, 'text': 'Các giấy tờ có giá đi vay, giấy tờ có giá của khách hàng đưa chiết khấu, tái chiết khấu đã chuyển quyền sở hữu đem đi sử dụng', 'distance': 1.2224430471154297}]\n",
      "[{'id': 'a3c965a6-8347-42ef-a379-5f43ac5032a1', 'reportId': 1, 'text': 'Các công cụ tài chính phái sinh và các tài sản tài chính khác', 'distance': 0.7471834270467417}, {'id': 'f6fbae66-e107-4b24-8f80-6f5a7d97efae', 'reportId': 1, 'text': 'Các công cụ tài chính phái sinh và các tài sản tài chính khác', 'distance': 0.7471834270467417}, {'id': 'c2f7925d-78f2-49f1-8174-0d4e6a96204d', 'reportId': 2, 'text': 'Các giấy tờ có giá đi vay, giấy tờ có giá của khách hàng đưa chiết khấu, tái chiết khấu đã chuyển quyền sở hữu đem đi sử dụng', 'distance': 0.7471834270467417}]\n"
     ]
    }
   ],
   "source": [
    "from langchain.embeddings import OpenAIEmbeddings\n",
    "\n",
    "openai_api = os.getenv('OPENAI_API_KEY')\n",
    "embedder = OpenAIEmbeddings(model=\"text-embedding-3-small\", openai_api_key=openai_api)\n",
    "\n",
    "query_text = \"công cụ tài chính\"\n",
    "\n",
    "# Query with L2 distance\n",
    "results = db.query_with_distance(\n",
    "    query_text, \n",
    "    embedder, \n",
    "    table_name=\"chunkEmbedding\", \n",
    "    distance='L2',\n",
    "    columns=[\"id\", \"reportId\", \"text\"], \n",
    "    limit=5\n",
    ")\n",
    "\n",
    "print(results)\n",
    "\n",
    "# Query with cosing distance\n",
    "results = db.query_with_distance(\n",
    "    query_text, \n",
    "    embedder, \n",
    "    table_name=\"chunkEmbedding\", \n",
    "    distance='cosine',\n",
    "    columns=[\"id\", \"reportId\", \"text\"], \n",
    "    limit=5\n",
    ")\n",
    "\n",
    "print(results)"
   ]
  },
  {
   "cell_type": "code",
   "execution_count": null,
   "metadata": {},
   "outputs": [],
   "source": []
  }
 ],
 "metadata": {
  "kernelspec": {
   "display_name": "base",
   "language": "python",
   "name": "python3"
  },
  "language_info": {
   "codemirror_mode": {
    "name": "ipython",
    "version": 3
   },
   "file_extension": ".py",
   "mimetype": "text/x-python",
   "name": "python",
   "nbconvert_exporter": "python",
   "pygments_lexer": "ipython3",
   "version": "3.11.8"
  }
 },
 "nbformat": 4,
 "nbformat_minor": 2
}
