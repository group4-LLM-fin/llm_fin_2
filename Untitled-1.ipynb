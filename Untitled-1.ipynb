{
 "cells": [
  {
   "cell_type": "code",
   "execution_count": null,
   "metadata": {},
   "outputs": [],
   "source": [
    "class NumArray:\n",
    "    def __init__(self, nums):\n",
    "        self.n = len(nums)\n",
    "        self.tree = [0] * (2 * self.n)  \n",
    "        for i in range(self.n):\n",
    "            self.tree[self.n + i] = nums[i]\n",
    "        for i in range(self.n - 1, 0, -1):\n",
    "            self.tree[i] = self.tree[2 * i] + self.tree[2 * i+1]\n",
    "\n",
    "    def update(self, index: int, val: int) -> None:\n",
    "        pos = index + self.n\n",
    "        self.tree[pos] = val\n",
    "        while pos>1:\n",
    "            pos//=2\n",
    "            self.tree[pos] = self.tree[pos*2] + self.tree[pos*2+1]\n",
    "\n",
    "    def sumRange(self, left: int, right: int) -> int:\n",
    "        l = left + self.n\n",
    "        r = right + self.n\n",
    "        sum_=0\n",
    "        while l<=r:\n",
    "            if l%2 == 1:\n",
    "                sum_ += self.tree[l]\n",
    "                l+=1\n",
    "            \n",
    "            if r%2 == 0:\n",
    "                sum_ += self.tree[r]\n",
    "                r-=1\n",
    "            \n",
    "            r //=2\n",
    "            l //=2\n",
    "        return sum_\n",
    "\n",
    "        "
   ]
  },
  {
   "cell_type": "code",
   "execution_count": 96,
   "metadata": {},
   "outputs": [
    {
     "name": "stdout",
     "output_type": "stream",
     "text": [
      "[0, 36, 10, 26, 3, 7, 11, 15, 1, 2, 3, 4, 5, 6, 7, 8]\n"
     ]
    }
   ],
   "source": [
    "a = NumArray([1,2,3,4,5,6,7,8])\n",
    "print(a.tree)\n"
   ]
  },
  {
   "cell_type": "code",
   "execution_count": 97,
   "metadata": {},
   "outputs": [
    {
     "data": {
      "text/plain": [
       "25"
      ]
     },
     "execution_count": 97,
     "metadata": {},
     "output_type": "execute_result"
    }
   ],
   "source": [
    "a.sumRange(2,6)"
   ]
  },
  {
   "cell_type": "code",
   "execution_count": null,
   "metadata": {},
   "outputs": [],
   "source": []
  }
 ],
 "metadata": {
  "kernelspec": {
   "display_name": "base",
   "language": "python",
   "name": "python3"
  },
  "language_info": {
   "codemirror_mode": {
    "name": "ipython",
    "version": 3
   },
   "file_extension": ".py",
   "mimetype": "text/x-python",
   "name": "python",
   "nbconvert_exporter": "python",
   "pygments_lexer": "ipython3",
   "version": "3.12.3"
  }
 },
 "nbformat": 4,
 "nbformat_minor": 2
}
