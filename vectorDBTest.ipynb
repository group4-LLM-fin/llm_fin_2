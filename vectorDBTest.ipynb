{
 "cells": [
  {
   "cell_type": "code",
   "execution_count": null,
   "metadata": {},
   "outputs": [],
   "source": [
    "# Installing\n",
    "%pip install psycopg2 numpy"
   ]
  },
  {
   "cell_type": "markdown",
   "metadata": {},
   "source": [
    "# Connect to DB"
   ]
  },
  {
   "cell_type": "code",
   "execution_count": 3,
   "metadata": {},
   "outputs": [],
   "source": [
    "import psycopg2\n",
    "from psycopg2.extras import execute_values\n",
    "import numpy as np\n",
    "import os\n",
    "from dotenv import load_dotenv\n",
    "\n",
    "load_dotenv()\n",
    "\n",
    "user = os.getenv('USER')\n",
    "host = os.getenv('HOST')\n",
    "port = os.getenv('PORT')\n",
    "password = os.getenv('PASSWORD')\n",
    "dbname = os.getenv('DB1')\n",
    "\n",
    "# Set up PostgreSQL connection\n",
    "connection = psycopg2.connect(\n",
    "    host=host,\n",
    "    port=port,\n",
    "    dbname=dbname,\n",
    "    user=user,\n",
    "    password=password\n",
    ")\n",
    "cursor = connection.cursor()\n"
   ]
  },
  {
   "cell_type": "markdown",
   "metadata": {},
   "source": [
    "# Create table"
   ]
  },
  {
   "cell_type": "code",
   "execution_count": 5,
   "metadata": {},
   "outputs": [],
   "source": [
    "cursor.execute(\"\"\"\n",
    "CREATE TABLE IF NOT EXISTS accounts (\n",
    "    accNo SERIAL PRIMARY KEY,\n",
    "    accName TEXT,\n",
    "    nameEmbedding VECTOR(1536)  -- Adjust the dimension based on your embedding size\n",
    ");\n",
    "\"\"\")\n",
    "connection.commit()\n"
   ]
  },
  {
   "cell_type": "markdown",
   "metadata": {},
   "source": [
    "# Insert Embedding Data"
   ]
  },
  {
   "cell_type": "code",
   "execution_count": null,
   "metadata": {},
   "outputs": [],
   "source": [
    "# Get embedding\n",
    "from langchain.embeddings import OpenAIEmbeddings\n",
    "\n",
    "openai_api = os.getenv('OPENAI_API_KEY')\n",
    "\n",
    "embedder = OpenAIEmbeddings(model=\"text-embedding-3-small\", openai_api_key=openai_api)\n",
    "\n",
    "texts = ['Chứng khoán Chính phủ, chứng khoán chính quyền địa phương', \n",
    "         'Chiết khấu công cụ chuyển nhượng và giấy tờ có giá đối với các tổ chức kinh tế, cá nhân trong nước',\n",
    "         'Cho vay vốn bằng đồng Việt Nam nhận trực tiếp của các Tổ chức Quốc tế',\n",
    "         'Chứng từ có giá trị bằng ngoại tệ do nước ngoài gửi đến đợi thanh toán',\n",
    "         'Giá trị tài sản cho thuê tài chính theo thời gian sử dụng']\n",
    "\n",
    "# Embed batch\n",
    "embeddings = embedder.embed_documents(texts = texts)"
   ]
  },
  {
   "cell_type": "code",
   "execution_count": 7,
   "metadata": {},
   "outputs": [],
   "source": [
    "# Take 1 embedding to commit\n",
    "embedding = embeddings[0]\n",
    "\n",
    "cursor.execute(\"\"\"\n",
    "INSERT INTO accounts (accName, nameEmbedding)\n",
    "VALUES (%s, %s);\n",
    "\"\"\", (\"Chứng khoán Chính phủ, chứng khoán chính quyền địa phương\", embedding))\n",
    "\n",
    "connection.commit()\n"
   ]
  },
  {
   "cell_type": "markdown",
   "metadata": {},
   "source": [
    "# Query vector DB"
   ]
  },
  {
   "cell_type": "markdown",
   "metadata": {},
   "source": [
    "- <-> - L2 distance\n",
    "- <#> - (negative) inner product\n",
    "- <=> - cosine distance\n",
    "- <+> - L1 distance (added in 0.7.0)\n",
    "- <~> - Hamming distance (binary vectors, added in 0.7.0)\n",
    "- <%> - Jaccard distance (binary vectors, added in 0.7.0)\n"
   ]
  },
  {
   "cell_type": "code",
   "execution_count": 12,
   "metadata": {},
   "outputs": [
    {
     "name": "stdout",
     "output_type": "stream",
     "text": [
      "(1, 'Chứng khoán Chính phủ, chứng khoán chính quyền địa phương', 0.4800928087215958)\n"
     ]
    }
   ],
   "source": [
    "query_embedding = embedder.embed_documents(texts = ['Chứng khoán chính quyền địa phương'])\n",
    "embedding_str = f\"ARRAY{query_embedding[0]}::vector\"\n",
    "\n",
    "connection.rollback()\n",
    "\n",
    "cursor.execute(f\"\"\"\n",
    "    SELECT accNo, accName, nameEmbedding <-> {embedding_str} AS distance\n",
    "    FROM accounts\n",
    "    ORDER BY distance\n",
    "    LIMIT 5;\n",
    "\"\"\")\n",
    "\n",
    "results = cursor.fetchall()\n",
    "\n",
    "for row in results:\n",
    "    print(row)\n"
   ]
  },
  {
   "cell_type": "markdown",
   "metadata": {},
   "source": [
    "Output: (id, accName, L2 distance) <-> (1, 'Chứng khoán Chính phủ, chứng khoán chính quyền địa phương', 0.4800928087215958)"
   ]
  }
 ],
 "metadata": {
  "kernelspec": {
   "display_name": "base",
   "language": "python",
   "name": "python3"
  },
  "language_info": {
   "codemirror_mode": {
    "name": "ipython",
    "version": 3
   },
   "file_extension": ".py",
   "mimetype": "text/x-python",
   "name": "python",
   "nbconvert_exporter": "python",
   "pygments_lexer": "ipython3",
   "version": "3.11.8"
  }
 },
 "nbformat": 4,
 "nbformat_minor": 2
}
